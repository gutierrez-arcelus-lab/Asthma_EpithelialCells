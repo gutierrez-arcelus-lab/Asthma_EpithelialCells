{
 "cells": [
  {
   "cell_type": "code",
   "execution_count": 3,
   "id": "5cfa88c4-1a17-458c-8bfc-816f00e045a0",
   "metadata": {},
   "outputs": [
    {
     "name": "stdout",
     "output_type": "stream",
     "text": [
      "DONE\n"
     ]
    }
   ],
   "source": [
    "import scanpy as sc\n",
    "import matplotlib.pyplot as plt\n",
    "import pandas as pd\n",
    "import numpy as np\n",
    "import anndata\n",
    "import os\n",
    "import anndata\n",
    "\n",
    "from cellphonedb.src.core.methods import cpdb_statistical_analysis_method\n",
    "\n",
    "sc.settings.verbosity = 3             # verbosity: errors (0), warnings (1), info (2), hints (3)\n",
    "sc.settings.set_figure_params(dpi=80, facecolor='white')\n",
    "\n",
    "print (\"DONE\")"
   ]
  },
  {
   "cell_type": "code",
   "execution_count": 4,
   "id": "470174f9-382f-46bd-a600-d66b26137601",
   "metadata": {},
   "outputs": [
    {
     "name": "stdout",
     "output_type": "stream",
     "text": [
      "DONE\n"
     ]
    }
   ],
   "source": [
    "cpdb_file_path='/Users/sarahdjeddi/Documents/AADCRC/EpithelialRV/allDonor/results/db/v5/v5.0.0/cellphonedb.zip'\n",
    "\n",
    "meta_path=\"/Users/sarahdjeddi/Documents/AADCRC/EpithelialRV/allDonor/results/05022024_metaSubset_cilInfected_OthersnonInf_cpdb_anndataVersion.txt\"\n",
    "\n",
    "count_path=\"/Users/sarahdjeddi/Documents/AADCRC/EpithelialRV/allDonor/results/anndata_seuObj_Subset_EpithelialRV_allDonor.h5ad\"\n",
    "\n",
    "print (\"DONE\")"
   ]
  },
  {
   "cell_type": "code",
   "execution_count": 5,
   "id": "6ea90d74-5aad-4920-a2e0-5f46ad9f64be",
   "metadata": {},
   "outputs": [
    {
     "data": {
      "text/html": [
       "<div>\n",
       "<style scoped>\n",
       "    .dataframe tbody tr th:only-of-type {\n",
       "        vertical-align: middle;\n",
       "    }\n",
       "\n",
       "    .dataframe tbody tr th {\n",
       "        vertical-align: top;\n",
       "    }\n",
       "\n",
       "    .dataframe thead th {\n",
       "        text-align: right;\n",
       "    }\n",
       "</style>\n",
       "<table border=\"1\" class=\"dataframe\">\n",
       "  <thead>\n",
       "    <tr style=\"text-align: right;\">\n",
       "      <th></th>\n",
       "      <th>cell</th>\n",
       "      <th>cat</th>\n",
       "    </tr>\n",
       "  </thead>\n",
       "  <tbody>\n",
       "    <tr>\n",
       "      <th>0</th>\n",
       "      <td>AAACCTGCATAGAAAC-4</td>\n",
       "      <td>ciliatedInfected</td>\n",
       "    </tr>\n",
       "    <tr>\n",
       "      <th>1</th>\n",
       "      <td>AAAGCAACAGCCTATA-4</td>\n",
       "      <td>ciliatedInfected</td>\n",
       "    </tr>\n",
       "    <tr>\n",
       "      <th>2</th>\n",
       "      <td>AACACGTAGTGTGGCA-4</td>\n",
       "      <td>ciliatedInfected</td>\n",
       "    </tr>\n",
       "    <tr>\n",
       "      <th>3</th>\n",
       "      <td>AACACGTCAATGAATG-4</td>\n",
       "      <td>ciliatedInfected</td>\n",
       "    </tr>\n",
       "    <tr>\n",
       "      <th>4</th>\n",
       "      <td>AACACGTGTCAAAGCG-4</td>\n",
       "      <td>ciliatedInfected</td>\n",
       "    </tr>\n",
       "  </tbody>\n",
       "</table>\n",
       "</div>"
      ],
      "text/plain": [
       "                 cell               cat\n",
       "0  AAACCTGCATAGAAAC-4  ciliatedInfected\n",
       "1  AAAGCAACAGCCTATA-4  ciliatedInfected\n",
       "2  AACACGTAGTGTGGCA-4  ciliatedInfected\n",
       "3  AACACGTCAATGAATG-4  ciliatedInfected\n",
       "4  AACACGTGTCAAAGCG-4  ciliatedInfected"
      ]
     },
     "execution_count": 5,
     "metadata": {},
     "output_type": "execute_result"
    }
   ],
   "source": [
    "metadata = pd.read_csv(meta_path, sep = '\\t')\n",
    "metadata.head(5)"
   ]
  },
  {
   "cell_type": "code",
   "execution_count": 6,
   "id": "c18829fb-699e-4030-8682-763581b4cca7",
   "metadata": {},
   "outputs": [
    {
     "data": {
      "text/plain": [
       "array(['ciliatedInfected', 'othersnonInfected'], dtype=object)"
      ]
     },
     "execution_count": 6,
     "metadata": {},
     "output_type": "execute_result"
    }
   ],
   "source": [
    "metadata['cat'].unique()"
   ]
  },
  {
   "cell_type": "code",
   "execution_count": 7,
   "id": "2289ad95-94d9-4ad3-939b-bb712473e9d7",
   "metadata": {},
   "outputs": [
    {
     "data": {
      "text/plain": [
       "AnnData object with n_obs × n_vars = 3524 × 36601"
      ]
     },
     "execution_count": 7,
     "metadata": {},
     "output_type": "execute_result"
    }
   ],
   "source": [
    "adata = anndata.read_h5ad(\"/Users/sarahdjeddi/Documents/AADCRC/EpithelialRV/allDonor/results/anndata_seuObj_Subset_EpithelialRV_allDonor.h5ad\")\n",
    "adata"
   ]
  },
  {
   "cell_type": "code",
   "execution_count": 8,
   "id": "a5a18841-99f6-42d1-8233-9143d2754797",
   "metadata": {},
   "outputs": [
    {
     "data": {
      "text/plain": [
       "True"
      ]
     },
     "execution_count": 8,
     "metadata": {},
     "output_type": "execute_result"
    }
   ],
   "source": [
    "list(adata.obs.index).sort() == list(metadata['cell']).sort()"
   ]
  },
  {
   "cell_type": "code",
   "execution_count": 10,
   "id": "d345f1f6-767d-4baf-815c-0e5aa3caa5c0",
   "metadata": {},
   "outputs": [
    {
     "name": "stdout",
     "output_type": "stream",
     "text": [
      "Reading user files...\n",
      "The following user files were loaded successfully:\n",
      "/Users/sarahdjeddi/Documents/AADCRC/EpithelialRV/allDonor/results/anndata_seuObj_Subset_EpithelialRV_allDonor.h5ad\n",
      "/Users/sarahdjeddi/Documents/AADCRC/EpithelialRV/allDonor/results/05022024_metaSubset_cilInfected_OthersnonInf_cpdb_anndataVersion.txt\n",
      "[ ][CORE][02/05/24-15:50:33][INFO] [Cluster Statistical Analysis] Threshold:0.1 Iterations:1000 Debug-seed:-1 Threads:4 Precision:3\n",
      "[ ][CORE][02/05/24-15:50:33][INFO] Running Real Analysis\n",
      "[ ][CORE][02/05/24-15:50:33][INFO] Running Statistical Analysis\n"
     ]
    },
    {
     "name": "stderr",
     "output_type": "stream",
     "text": [
      "100%|███████████████████████████████████████| 1000/1000 [00:43<00:00, 23.02it/s]"
     ]
    },
    {
     "name": "stdout",
     "output_type": "stream",
     "text": [
      "[ ][CORE][02/05/24-15:51:17][INFO] Building Pvalues result\n",
      "[ ][CORE][02/05/24-15:51:17][INFO] Building results\n"
     ]
    },
    {
     "name": "stderr",
     "output_type": "stream",
     "text": [
      "\n"
     ]
    },
    {
     "name": "stdout",
     "output_type": "stream",
     "text": [
      "Saved deconvoluted to /Users/sarahdjeddi/Documents/AADCRC/EpithelialRV/allDonor/results/db/v5/Deg_Subset_ciliatedinfected_vs_ciliatedNonInfected_05022024/statistical_analysis_deconvoluted_05_02_2024_155117.txt\n",
      "Saved deconvoluted_percents to /Users/sarahdjeddi/Documents/AADCRC/EpithelialRV/allDonor/results/db/v5/Deg_Subset_ciliatedinfected_vs_ciliatedNonInfected_05022024/statistical_analysis_deconvoluted_percents_05_02_2024_155117.txt\n",
      "Saved means to /Users/sarahdjeddi/Documents/AADCRC/EpithelialRV/allDonor/results/db/v5/Deg_Subset_ciliatedinfected_vs_ciliatedNonInfected_05022024/statistical_analysis_means_05_02_2024_155117.txt\n",
      "Saved pvalues to /Users/sarahdjeddi/Documents/AADCRC/EpithelialRV/allDonor/results/db/v5/Deg_Subset_ciliatedinfected_vs_ciliatedNonInfected_05022024/statistical_analysis_pvalues_05_02_2024_155117.txt\n",
      "Saved significant_means to /Users/sarahdjeddi/Documents/AADCRC/EpithelialRV/allDonor/results/db/v5/Deg_Subset_ciliatedinfected_vs_ciliatedNonInfected_05022024/statistical_analysis_significant_means_05_02_2024_155117.txt\n"
     ]
    },
    {
     "ename": "NameError",
     "evalue": "name 'cpdb_analysis_method' is not defined",
     "output_type": "error",
     "traceback": [
      "\u001b[0;31m---------------------------------------------------------------------------\u001b[0m",
      "\u001b[0;31mNameError\u001b[0m                                 Traceback (most recent call last)",
      "Cell \u001b[0;32mIn[10], line 11\u001b[0m\n\u001b[1;32m      1\u001b[0m out_path_normal \u001b[38;5;241m=\u001b[39m \u001b[38;5;124m'\u001b[39m\u001b[38;5;124m/Users/sarahdjeddi/Documents/AADCRC/EpithelialRV/allDonor/results/db/v5/Deg_Subset_ciliatedinfected_vs_ciliatedNonInfected_05022024\u001b[39m\u001b[38;5;124m'\u001b[39m\n\u001b[1;32m      3\u001b[0m cpdb_results \u001b[38;5;241m=\u001b[39m cpdb_statistical_analysis_method\u001b[38;5;241m.\u001b[39mcall(\n\u001b[1;32m      4\u001b[0m          cpdb_file_path \u001b[38;5;241m=\u001b[39m cpdb_file_path,\n\u001b[1;32m      5\u001b[0m          meta_file_path \u001b[38;5;241m=\u001b[39m meta_path,\n\u001b[1;32m      6\u001b[0m          counts_file_path \u001b[38;5;241m=\u001b[39m count_path,\n\u001b[1;32m      7\u001b[0m          counts_data \u001b[38;5;241m=\u001b[39m \u001b[38;5;124m'\u001b[39m\u001b[38;5;124mhgnc_symbol\u001b[39m\u001b[38;5;124m'\u001b[39m,\n\u001b[1;32m      8\u001b[0m          output_path \u001b[38;5;241m=\u001b[39m out_path_normal)\n\u001b[0;32m---> 11\u001b[0m cpdb_results \u001b[38;5;241m=\u001b[39m \u001b[43mcpdb_analysis_method\u001b[49m\u001b[38;5;241m.\u001b[39mcall(\n\u001b[1;32m     12\u001b[0m          cpdb_file_path \u001b[38;5;241m=\u001b[39m cellphonedb\u001b[38;5;241m.\u001b[39mzip,\n\u001b[1;32m     13\u001b[0m          meta_file_path \u001b[38;5;241m=\u001b[39m meta_path,\n\u001b[1;32m     14\u001b[0m          counts_file_path \u001b[38;5;241m=\u001b[39m count_path,\n\u001b[1;32m     15\u001b[0m          counts_data \u001b[38;5;241m=\u001b[39m \u001b[38;5;124m'\u001b[39m\u001b[38;5;124mhgnc_symbol\u001b[39m\u001b[38;5;124m'\u001b[39m,\n\u001b[1;32m     16\u001b[0m          output_path \u001b[38;5;241m=\u001b[39m out_path)\n",
      "\u001b[0;31mNameError\u001b[0m: name 'cpdb_analysis_method' is not defined"
     ]
    }
   ],
   "source": [
    "out_path_normal = '/Users/sarahdjeddi/Documents/AADCRC/EpithelialRV/allDonor/results/db/v5/Deg_Subset_ciliatedinfected_vs_ciliatedNonInfected_05022024'\n",
    "\n",
    "cpdb_results = cpdb_statistical_analysis_method.call(\n",
    "         cpdb_file_path = cpdb_file_path,\n",
    "         meta_file_path = meta_path,\n",
    "         counts_file_path = count_path,\n",
    "         counts_data = 'hgnc_symbol',\n",
    "         output_path = out_path_normal)\n",
    "\n",
    "\n",
    "cpdb_results = cpdb_analysis_method.call(\n",
    "         cpdb_file_path = cellphonedb.zip,\n",
    "         meta_file_path = meta_path,\n",
    "         counts_file_path = count_path,\n",
    "         counts_data = 'hgnc_symbol',\n",
    "         output_path = out_path)"
   ]
  }
 ],
 "metadata": {
  "kernelspec": {
   "display_name": "cpdb",
   "language": "python",
   "name": "cpdb"
  },
  "language_info": {
   "codemirror_mode": {
    "name": "ipython",
    "version": 3
   },
   "file_extension": ".py",
   "mimetype": "text/x-python",
   "name": "python",
   "nbconvert_exporter": "python",
   "pygments_lexer": "ipython3",
   "version": "3.11.7"
  }
 },
 "nbformat": 4,
 "nbformat_minor": 5
}

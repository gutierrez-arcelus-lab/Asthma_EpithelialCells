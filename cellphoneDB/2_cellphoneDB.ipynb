{
 "cells": [
  {
   "cell_type": "code",
   "execution_count": 2,
   "metadata": {},
   "outputs": [
    {
     "name": "stdout",
     "output_type": "stream",
     "text": [
      "3.8.18 (default, Sep 11 2023, 13:40:15) \n",
      "[GCC 11.2.0]\n"
     ]
    }
   ],
   "source": [
    "import pandas as pd\n",
    "import sys\n",
    "import os\n",
    "\n",
    "os.chdir('/lab-share/IM-Gutierrez-e2/Public/Sarah/cellphoneDB_George')\n",
    "\n",
    "print(sys.version)"
   ]
  },
  {
   "cell_type": "code",
   "execution_count": 3,
   "metadata": {},
   "outputs": [],
   "source": [
    "cpdb_file_path='/lab-share/IM-Gutierrez-e2/Public/Sarah/cellphoneDB_George/v4.1.0/cellphonedb.zip'\n",
    "\n",
    "meta_control_path=\"/lab-share/IM-Gutierrez-e2/Public/Sarah/cellphoneDB_George/metadata_v2_Control.txt\"\n",
    "meta_CRSsNP_path=\"/lab-share/IM-Gutierrez-e2/Public/Sarah/cellphoneDB_George/metadata_v2_CRSsNP.txt\"\n",
    "meta_neCRSwNP_path=\"/lab-share/IM-Gutierrez-e2/Public/Sarah/cellphoneDB_George/metadata_v2_neCRSwNP.txt\" \n",
    "meta_eCRSwNP_path=\"/lab-share/IM-Gutierrez-e2/Public/Sarah/cellphoneDB_George/metadata_v2_eCRSwNP.txt\"\n",
    "\n",
    "count_control_path=\"/lab-share/IM-Gutierrez-e2/Public/Sarah/cellphoneDB_George/anndata_v2_Control.h5ad\"\n",
    "count_CRSsNP_path=\"/lab-share/IM-Gutierrez-e2/Public/Sarah/cellphoneDB_George/anndata_v2_CRSsNP.h5ad\"\n",
    "count_neCRSwNP_path=\"/lab-share/IM-Gutierrez-e2/Public/Sarah/cellphoneDB_George/anndata_v2_neCRSwNP.h5ad\"\n",
    "count_eCRSwNP_path=\"/lab-share/IM-Gutierrez-e2/Public/Sarah/cellphoneDB_George/anndata_v2_eCRSwNP.h5ad\"\n",
    "\n"
   ]
  },
  {
   "cell_type": "code",
   "execution_count": 4,
   "metadata": {},
   "outputs": [
    {
     "data": {
      "text/html": [
       "<div>\n",
       "<style scoped>\n",
       "    .dataframe tbody tr th:only-of-type {\n",
       "        vertical-align: middle;\n",
       "    }\n",
       "\n",
       "    .dataframe tbody tr th {\n",
       "        vertical-align: top;\n",
       "    }\n",
       "\n",
       "    .dataframe thead th {\n",
       "        text-align: right;\n",
       "    }\n",
       "</style>\n",
       "<table border=\"1\" class=\"dataframe\">\n",
       "  <thead>\n",
       "    <tr style=\"text-align: right;\">\n",
       "      <th></th>\n",
       "      <th>cell</th>\n",
       "      <th>cluster_vBeta</th>\n",
       "    </tr>\n",
       "  </thead>\n",
       "  <tbody>\n",
       "    <tr>\n",
       "      <th>0</th>\n",
       "      <td>AAACCCAAGAGAGCGG-12</td>\n",
       "      <td>Bnaive _ CRSsNP</td>\n",
       "    </tr>\n",
       "    <tr>\n",
       "      <th>1</th>\n",
       "      <td>AAACCCAAGAGCATAT-6</td>\n",
       "      <td>Club _ neCRSwNP</td>\n",
       "    </tr>\n",
       "    <tr>\n",
       "      <th>2</th>\n",
       "      <td>AAACCCAAGCAACTCT-20</td>\n",
       "      <td>Bmemory _ Control</td>\n",
       "    </tr>\n",
       "  </tbody>\n",
       "</table>\n",
       "</div>"
      ],
      "text/plain": [
       "                  cell      cluster_vBeta\n",
       "0  AAACCCAAGAGAGCGG-12    Bnaive _ CRSsNP\n",
       "1   AAACCCAAGAGCATAT-6    Club _ neCRSwNP\n",
       "2  AAACCCAAGCAACTCT-20  Bmemory _ Control"
      ]
     },
     "execution_count": 4,
     "metadata": {},
     "output_type": "execute_result"
    }
   ],
   "source": [
    "metadata = pd.read_csv(meta_file_path, sep = '\\t')\n",
    "metadata.head(3)\n"
   ]
  },
  {
   "cell_type": "code",
   "execution_count": 5,
   "metadata": {},
   "outputs": [
    {
     "data": {
      "text/html": [
       "<div>\n",
       "<style scoped>\n",
       "    .dataframe tbody tr th:only-of-type {\n",
       "        vertical-align: middle;\n",
       "    }\n",
       "\n",
       "    .dataframe tbody tr th {\n",
       "        vertical-align: top;\n",
       "    }\n",
       "\n",
       "    .dataframe thead th {\n",
       "        text-align: right;\n",
       "    }\n",
       "</style>\n",
       "<table border=\"1\" class=\"dataframe\">\n",
       "  <thead>\n",
       "    <tr style=\"text-align: right;\">\n",
       "      <th></th>\n",
       "      <th>cell</th>\n",
       "      <th>orig.ident</th>\n",
       "    </tr>\n",
       "  </thead>\n",
       "  <tbody>\n",
       "    <tr>\n",
       "      <th>0</th>\n",
       "      <td>AAACCCAAGCAACTCT-20</td>\n",
       "      <td>B cells</td>\n",
       "    </tr>\n",
       "    <tr>\n",
       "      <th>1</th>\n",
       "      <td>AAACCCAAGGAAGTGA-20</td>\n",
       "      <td>Fibroblast</td>\n",
       "    </tr>\n",
       "    <tr>\n",
       "      <th>2</th>\n",
       "      <td>AAACCCAAGGATGAGA-20</td>\n",
       "      <td>Epithelial cells</td>\n",
       "    </tr>\n",
       "  </tbody>\n",
       "</table>\n",
       "</div>"
      ],
      "text/plain": [
       "                  cell        orig.ident\n",
       "0  AAACCCAAGCAACTCT-20           B cells\n",
       "1  AAACCCAAGGAAGTGA-20        Fibroblast\n",
       "2  AAACCCAAGGATGAGA-20  Epithelial cells"
      ]
     },
     "execution_count": 5,
     "metadata": {},
     "output_type": "execute_result"
    }
   ],
   "source": [
    "\n",
    "meta_control=pd.read_csv(meta_control_path, sep=\"\\t\")\n",
    "meta_control.head(3)\n"
   ]
  },
  {
   "cell_type": "code",
   "execution_count": 6,
   "metadata": {},
   "outputs": [
    {
     "data": {
      "text/html": [
       "<div>\n",
       "<style scoped>\n",
       "    .dataframe tbody tr th:only-of-type {\n",
       "        vertical-align: middle;\n",
       "    }\n",
       "\n",
       "    .dataframe tbody tr th {\n",
       "        vertical-align: top;\n",
       "    }\n",
       "\n",
       "    .dataframe thead th {\n",
       "        text-align: right;\n",
       "    }\n",
       "</style>\n",
       "<table border=\"1\" class=\"dataframe\">\n",
       "  <thead>\n",
       "    <tr style=\"text-align: right;\">\n",
       "      <th></th>\n",
       "      <th>cell</th>\n",
       "      <th>orig.ident</th>\n",
       "    </tr>\n",
       "  </thead>\n",
       "  <tbody>\n",
       "    <tr>\n",
       "      <th>0</th>\n",
       "      <td>AAACCCAAGAGAGCGG-12</td>\n",
       "      <td>B cells</td>\n",
       "    </tr>\n",
       "    <tr>\n",
       "      <th>1</th>\n",
       "      <td>AAACCCAAGCACGGAT-15</td>\n",
       "      <td>T cells</td>\n",
       "    </tr>\n",
       "    <tr>\n",
       "      <th>2</th>\n",
       "      <td>AAACCCAAGGTTGACG-16</td>\n",
       "      <td>Endothelial cells</td>\n",
       "    </tr>\n",
       "  </tbody>\n",
       "</table>\n",
       "</div>"
      ],
      "text/plain": [
       "                  cell         orig.ident\n",
       "0  AAACCCAAGAGAGCGG-12            B cells\n",
       "1  AAACCCAAGCACGGAT-15            T cells\n",
       "2  AAACCCAAGGTTGACG-16  Endothelial cells"
      ]
     },
     "execution_count": 6,
     "metadata": {},
     "output_type": "execute_result"
    }
   ],
   "source": [
    "meta_CRSsNP=pd.read_csv(meta_CRSsNP_path, sep=\"\\t\")\n",
    "meta_CRSsNP.head(3)"
   ]
  },
  {
   "cell_type": "code",
   "execution_count": 7,
   "metadata": {},
   "outputs": [
    {
     "data": {
      "text/html": [
       "<div>\n",
       "<style scoped>\n",
       "    .dataframe tbody tr th:only-of-type {\n",
       "        vertical-align: middle;\n",
       "    }\n",
       "\n",
       "    .dataframe tbody tr th {\n",
       "        vertical-align: top;\n",
       "    }\n",
       "\n",
       "    .dataframe thead th {\n",
       "        text-align: right;\n",
       "    }\n",
       "</style>\n",
       "<table border=\"1\" class=\"dataframe\">\n",
       "  <thead>\n",
       "    <tr style=\"text-align: right;\">\n",
       "      <th></th>\n",
       "      <th>cell</th>\n",
       "      <th>orig.ident</th>\n",
       "    </tr>\n",
       "  </thead>\n",
       "  <tbody>\n",
       "    <tr>\n",
       "      <th>0</th>\n",
       "      <td>AAACCCAAGAGCATAT-6</td>\n",
       "      <td>Epithelial cells</td>\n",
       "    </tr>\n",
       "    <tr>\n",
       "      <th>1</th>\n",
       "      <td>AAACCCAAGCAATAAC-4</td>\n",
       "      <td>T cells</td>\n",
       "    </tr>\n",
       "    <tr>\n",
       "      <th>2</th>\n",
       "      <td>AAACCCAAGCAGCCCT-6</td>\n",
       "      <td>Epithelial cells</td>\n",
       "    </tr>\n",
       "  </tbody>\n",
       "</table>\n",
       "</div>"
      ],
      "text/plain": [
       "                 cell        orig.ident\n",
       "0  AAACCCAAGAGCATAT-6  Epithelial cells\n",
       "1  AAACCCAAGCAATAAC-4           T cells\n",
       "2  AAACCCAAGCAGCCCT-6  Epithelial cells"
      ]
     },
     "execution_count": 7,
     "metadata": {},
     "output_type": "execute_result"
    }
   ],
   "source": [
    "meta_neCRSwNP=pd.read_csv(meta_neCRSwNP_path, sep=\"\\t\")\n",
    "meta_neCRSwNP.head(3)\n"
   ]
  },
  {
   "cell_type": "code",
   "execution_count": 8,
   "metadata": {},
   "outputs": [
    {
     "data": {
      "text/html": [
       "<div>\n",
       "<style scoped>\n",
       "    .dataframe tbody tr th:only-of-type {\n",
       "        vertical-align: middle;\n",
       "    }\n",
       "\n",
       "    .dataframe tbody tr th {\n",
       "        vertical-align: top;\n",
       "    }\n",
       "\n",
       "    .dataframe thead th {\n",
       "        text-align: right;\n",
       "    }\n",
       "</style>\n",
       "<table border=\"1\" class=\"dataframe\">\n",
       "  <thead>\n",
       "    <tr style=\"text-align: right;\">\n",
       "      <th></th>\n",
       "      <th>cell</th>\n",
       "      <th>orig.ident</th>\n",
       "    </tr>\n",
       "  </thead>\n",
       "  <tbody>\n",
       "    <tr>\n",
       "      <th>0</th>\n",
       "      <td>AAACCCAAGCTAAATG-9</td>\n",
       "      <td>T cells</td>\n",
       "    </tr>\n",
       "    <tr>\n",
       "      <th>1</th>\n",
       "      <td>AAACCCAAGCTCTATG-1</td>\n",
       "      <td>T cells</td>\n",
       "    </tr>\n",
       "    <tr>\n",
       "      <th>2</th>\n",
       "      <td>AAACCCAAGGTAGACC-2</td>\n",
       "      <td>T cells</td>\n",
       "    </tr>\n",
       "  </tbody>\n",
       "</table>\n",
       "</div>"
      ],
      "text/plain": [
       "                 cell orig.ident\n",
       "0  AAACCCAAGCTAAATG-9    T cells\n",
       "1  AAACCCAAGCTCTATG-1    T cells\n",
       "2  AAACCCAAGGTAGACC-2    T cells"
      ]
     },
     "execution_count": 8,
     "metadata": {},
     "output_type": "execute_result"
    }
   ],
   "source": [
    "meta_eCRSwNP=pd.read_csv(meta_eCRSwNP_path, sep=\"\\t\")\n",
    "meta_eCRSwNP.head(3)"
   ]
  },
  {
   "cell_type": "code",
   "execution_count": 9,
   "metadata": {},
   "outputs": [],
   "source": [
    "# import anndata\n",
    "\n",
    "# adata = anndata.read_h5ad(counts_file_path)\n",
    "# adata.shape\n"
   ]
  },
  {
   "cell_type": "code",
   "execution_count": 10,
   "metadata": {},
   "outputs": [],
   "source": [
    "import anndata\n",
    "adata_control = anndata.read_h5ad(count_control_path)"
   ]
  },
  {
   "cell_type": "code",
   "execution_count": 11,
   "metadata": {},
   "outputs": [
    {
     "data": {
      "text/plain": [
       "(17227, 36601)"
      ]
     },
     "execution_count": 11,
     "metadata": {},
     "output_type": "execute_result"
    }
   ],
   "source": [
    "\n",
    "import anndata\n",
    "adata_CRSsNP = anndata.read_h5ad(count_CRSsNP_path)\n",
    "adata_CRSsNP.shape\n"
   ]
  },
  {
   "cell_type": "code",
   "execution_count": 12,
   "metadata": {},
   "outputs": [
    {
     "data": {
      "text/plain": [
       "(20693, 36601)"
      ]
     },
     "execution_count": 12,
     "metadata": {},
     "output_type": "execute_result"
    }
   ],
   "source": [
    "adata_neCRSwNP = anndata.read_h5ad(count_neCRSwNP_path)\n",
    "adata_neCRSwNP.shape\n"
   ]
  },
  {
   "cell_type": "code",
   "execution_count": 13,
   "metadata": {},
   "outputs": [
    {
     "data": {
      "text/plain": [
       "(12152, 36601)"
      ]
     },
     "execution_count": 13,
     "metadata": {},
     "output_type": "execute_result"
    }
   ],
   "source": [
    "adata_eCRSwNP = anndata.read_h5ad(count_eCRSwNP_path)\n",
    "adata_eCRSwNP.shape\n"
   ]
  },
  {
   "cell_type": "code",
   "execution_count": null,
   "metadata": {},
   "outputs": [
    {
     "data": {
      "text/plain": [
       "True"
      ]
     },
     "execution_count": 31,
     "metadata": {},
     "output_type": "execute_result"
    }
   ],
   "source": [
    "list(adata.obs.index).sort() == list(metadata['cell']).sort()\n"
   ]
  },
  {
   "cell_type": "code",
   "execution_count": null,
   "metadata": {},
   "outputs": [
    {
     "data": {
      "text/plain": [
       "True"
      ]
     },
     "execution_count": 32,
     "metadata": {},
     "output_type": "execute_result"
    }
   ],
   "source": [
    "list(adata_control.obs.index).sort() == list(meta_control['cell']).sort()"
   ]
  },
  {
   "cell_type": "code",
   "execution_count": null,
   "metadata": {},
   "outputs": [
    {
     "data": {
      "text/plain": [
       "True"
      ]
     },
     "execution_count": 33,
     "metadata": {},
     "output_type": "execute_result"
    }
   ],
   "source": [
    "list(adata_CRSsNP.obs.index).sort() == list(meta_CRSsNP['cell']).sort()"
   ]
  },
  {
   "cell_type": "code",
   "execution_count": null,
   "metadata": {},
   "outputs": [
    {
     "data": {
      "text/plain": [
       "True"
      ]
     },
     "execution_count": 34,
     "metadata": {},
     "output_type": "execute_result"
    }
   ],
   "source": [
    "list(adata_eCRSwNP.obs.index).sort() == list(meta_eCRSwNP['cell']).sort()"
   ]
  },
  {
   "cell_type": "code",
   "execution_count": null,
   "metadata": {},
   "outputs": [
    {
     "data": {
      "text/plain": [
       "True"
      ]
     },
     "execution_count": 35,
     "metadata": {},
     "output_type": "execute_result"
    }
   ],
   "source": [
    "list(adata_neCRSwNP.obs.index).sort() == list(meta_neCRSwNP['cell']).sort()"
   ]
  },
  {
   "cell_type": "code",
   "execution_count": null,
   "metadata": {},
   "outputs": [],
   "source": [
    "# from cellphonedb.src.core.methods import cpdb_analysis_method\n",
    "# #out_path=\"/lab-share/IM-Gutierrez-e2/Public/Sarah/cellphoneDB_George/out_cpdb\"\n",
    "\n",
    "\n",
    "# means, deconvoluted = cpdb_analysis_method.call(\n",
    "#     cpdb_file_path = cpdb_file_path,           # mandatory: CellPhoneDB database zip file.\n",
    "#     meta_file_path = meta_file_path,           # mandatory: tsv file defining barcodes to cell label.\n",
    "#     counts_file_path = counts_file_path,       # mandatory: normalized count matrix.\n",
    "#     counts_data = 'hgnc_symbol',               # defines the gene annotation in counts matrix.\n",
    "#     output_path = out_path,                    # Path to save results    microenvs_file_path = None,\n",
    "#     separator = '|',                           # Sets the string to employ to separate cells in the results dataframes \"cellA|CellB\".\n",
    "#     threshold = 0.3,                           # defines the min % of cells expressing a gene for this to be employed in the analysis.\n",
    "#     result_precision = 3,                      # Sets the rounding for the mean values in significan_means.\n",
    "#     debug = False,                             # Saves all intermediate tables emplyed during the analysis in pkl format.\n",
    "#     output_suffix = None                       # Replaces the timestamp in the output files by a user defined string in the  (default: None)\n",
    "# )"
   ]
  },
  {
   "cell_type": "code",
   "execution_count": null,
   "metadata": {},
   "outputs": [],
   "source": [
    "# from cellphonedb.src.core.methods import cpdb_statistical_analysis_method\n",
    "\n",
    "# deconvoluted, means, pvalues, significant_means = cpdb_statistical_analysis_method.call(\n",
    "#     cpdb_file_path = cpdb_file_path,                 # mandatory: CellPhoneDB database zip file.\n",
    "#     meta_file_path = meta_file_path,                 # mandatory: tsv file defining barcodes to cell label.\n",
    "#     counts_file_path = \"/lab-share/IM-Gutierrez-e2/Public/Sarah/cellphoneDB_George/seu_objControl.h5ad\",             # mandatory: normalized count matrix.\n",
    "#     counts_data = 'hgnc_symbol',                     # defines the gene annotation in counts matrix.\n",
    "#     iterations = 1000,                               # denotes the number of shufflings performed in the analysis.\n",
    "#     threshold = 0.1,                                 # defines the min % of cells expressing a gene for this to be employed in the analysis.\n",
    "#     threads = 4,                                     # number of threads to use in the analysis.\n",
    "#     debug_seed = 42,                                 # debug randome seed. To disable >=0.\n",
    "#     result_precision = 3,                            # Sets the rounding for the mean values in significan_means.\n",
    "#     pvalue = 0.05,                                   # P-value threshold to employ for significance.\n",
    "#     subsampling = False,                             # To enable subsampling the data (geometri sketching).\n",
    "#     subsampling_log = False,                         # (mandatory) enable subsampling log1p for non log-transformed data inputs.\n",
    "#     subsampling_num_pc = 100,                        # Number of componets to subsample via geometric skectching (dafault: 100).\n",
    "#     subsampling_num_cells = 1000,                    # Number of cells to subsample (integer) (default: 1/3 of the dataset).\n",
    "#     separator = '|',                                 # Sets the string to employ to separate cells in the results dataframes \"cellA|CellB\".\n",
    "#     debug = False,                                   # Saves all intermediate tables employed during the analysis in pkl format.\n",
    "#     output_path = out_path,                          # Path to save results.\n",
    "#     output_suffix = None                             # Replaces the timestamp in the output files by a user defined string in the  (default: None).\n",
    "#     )"
   ]
  },
  {
   "cell_type": "code",
   "execution_count": null,
   "metadata": {},
   "outputs": [],
   "source": [
    "# pvalues=pd.read_csv(\"/lab-share/IM-Gutierrez-e2/Public/Sarah/cellphoneDB_George/out_cpdb/statistical_analysis_pvalues_09_14_2023_14:51:27.txt\", sep=\"\\t\")\n",
    "# #pvalues.head(3)\n",
    "\n",
    "# deconvoluted=pd.read_csv(\"/lab-share/IM-Gutierrez-e2/Public/Sarah/cellphoneDB_George/out_cpdb/statistical_analysis_deconvoluted_09_14_2023_14:51:27.txt\")\n",
    "# #deconvoluted.head(3)\n",
    "\n",
    "# means=pd.read_csv(\"/lab-share/IM-Gutierrez-e2/Public/Sarah/cellphoneDB_George/out_cpdb/statistical_analysis_means_09_14_2023_14:51:27.txt\")\n",
    "# #means.head(3)\n",
    "\n",
    "# significant_means=read_csv(\"/lab-share/IM-Gutierrez-e2/Public/Sarah/cellphoneDB_George/out_cpdb/statistical_analysis_significant_means_09_14_2023_14:51:27.txt\", sep=\"\\t\")\n",
    "# significant_means.head(3)"
   ]
  },
  {
   "cell_type": "code",
   "execution_count": 11,
   "metadata": {},
   "outputs": [
    {
     "name": "stdout",
     "output_type": "stream",
     "text": [
      "Reading user files...\n",
      "The following user files were loaded successfully:\n",
      "/lab-share/IM-Gutierrez-e2/Public/Sarah/cellphoneDB_George/anndata_Control.h5ad\n",
      "/lab-share/IM-Gutierrez-e2/Public/Sarah/cellphoneDB_George/metadata_Control.txt\n",
      "[ ][CORE][17/09/23-21:15:37][INFO] [Cluster Statistical Analysis] Threshold:0.3 Iterations:1000 Debug-seed:42 Threads:4 Precision:3\n",
      "[ ][CORE][17/09/23-21:15:37][WARNING] Debug random seed enabled. Set to 42\n",
      "[ ][CORE][17/09/23-21:15:40][INFO] Running Real Analysis\n",
      "[ ][CORE][17/09/23-21:15:40][INFO] Running Statistical Analysis\n"
     ]
    },
    {
     "name": "stderr",
     "output_type": "stream",
     "text": [
      "100%|██████████| 1000/1000 [04:27<00:00,  3.73it/s]\n"
     ]
    },
    {
     "name": "stdout",
     "output_type": "stream",
     "text": [
      "[ ][CORE][17/09/23-21:20:09][INFO] Building Pvalues result\n",
      "[ ][CORE][17/09/23-21:20:09][INFO] Building results\n",
      "Saved deconvoluted to /lab-share/IM-Gutierrez-e2/Public/Sarah/cellphoneDB_George/out_cpdb_thres0.3/statistical_analysis_deconvoluted_control.txt\n",
      "Saved means to /lab-share/IM-Gutierrez-e2/Public/Sarah/cellphoneDB_George/out_cpdb_thres0.3/statistical_analysis_means_control.txt\n",
      "Saved pvalues to /lab-share/IM-Gutierrez-e2/Public/Sarah/cellphoneDB_George/out_cpdb_thres0.3/statistical_analysis_pvalues_control.txt\n",
      "Saved significant_means to /lab-share/IM-Gutierrez-e2/Public/Sarah/cellphoneDB_George/out_cpdb_thres0.3/statistical_analysis_significant_means_control.txt\n"
     ]
    }
   ],
   "source": [
    "#out_path=\"/lab-share/IM-Gutierrez-e2/Public/Sarah/cellphoneDB_George/out_cpdb_subset\"\n",
    "out_path=\"/lab-share/IM-Gutierrez-e2/Public/Sarah/cellphoneDB_George/out_cpdb_thres0.3\"\n",
    "\n",
    "from cellphonedb.src.core.methods import cpdb_statistical_analysis_method\n",
    "\n",
    "deconvoluted, means, pvalues, significant_means = cpdb_statistical_analysis_method.call(\n",
    "    cpdb_file_path = cpdb_file_path,                 # mandatory: CellPhoneDB database zip file.\n",
    "    meta_file_path = meta_control_path,                 # mandatory: tsv file defining barcodes to cell label.\n",
    "    counts_file_path = count_control_path,             # mandatory: normalized count matrix.\n",
    "    counts_data = 'hgnc_symbol',                     # defines the gene annotation in counts matrix.\n",
    "    iterations = 1000,                               # denotes the number of shufflings performed in the analysis.\n",
    "    threshold = 0.3,                                 # defines the min % of cells expressing a gene for this to be employed in the analysis.\n",
    "    threads = 4,                                     # number of threads to use in the analysis.\n",
    "    debug_seed = 42,                                 # debug randome seed. To disable >=0.\n",
    "    result_precision = 3,                            # Sets the rounding for the mean values in significan_means.\n",
    "    pvalue = 0.05,                                   # P-value threshold to employ for significance.\n",
    "    subsampling = False,                             # To enable subsampling the data (geometri sketching).\n",
    "    subsampling_log = False,                         # (mandatory) enable subsampling log1p for non log-transformed data inputs.\n",
    "    subsampling_num_pc = 100,                        # Number of componets to subsample via geometric skectching (dafault: 100).\n",
    "    subsampling_num_cells = 1000,                    # Number of cells to subsample (integer) (default: 1/3 of the dataset).\n",
    "    separator = '|',                                 # Sets the string to employ to separate cells in the results dataframes \"cellA|CellB\".\n",
    "    debug = False,                                   # Saves all intermediate tables employed during the analysis in pkl format.\n",
    "    output_path = out_path,                          # Path to save results.\n",
    "    output_suffix = \"control\"                             # Replaces the timestamp in the output files by a user defined string in the  (default: None).\n",
    "    )"
   ]
  },
  {
   "cell_type": "code",
   "execution_count": 12,
   "metadata": {},
   "outputs": [
    {
     "name": "stdout",
     "output_type": "stream",
     "text": [
      "Reading user files...\n",
      "The following user files were loaded successfully:\n",
      "/lab-share/IM-Gutierrez-e2/Public/Sarah/cellphoneDB_George/anndata_eCRSwNP.h5ad\n",
      "/lab-share/IM-Gutierrez-e2/Public/Sarah/cellphoneDB_George/metadata_eCRSwNP.txt\n",
      "[ ][CORE][17/09/23-21:20:49][INFO] [Cluster Statistical Analysis] Threshold:0.3 Iterations:1000 Debug-seed:42 Threads:4 Precision:3\n",
      "[ ][CORE][17/09/23-21:20:49][WARNING] Debug random seed enabled. Set to 42\n",
      "[ ][CORE][17/09/23-21:20:51][INFO] Running Real Analysis\n",
      "[ ][CORE][17/09/23-21:20:51][INFO] Running Statistical Analysis\n"
     ]
    },
    {
     "name": "stderr",
     "output_type": "stream",
     "text": [
      "100%|██████████| 1000/1000 [03:02<00:00,  5.48it/s]\n"
     ]
    },
    {
     "name": "stdout",
     "output_type": "stream",
     "text": [
      "[ ][CORE][17/09/23-21:23:55][INFO] Building Pvalues result\n",
      "[ ][CORE][17/09/23-21:23:55][INFO] Building results\n",
      "Saved deconvoluted to /lab-share/IM-Gutierrez-e2/Public/Sarah/cellphoneDB_George/out_cpdb_thres0.3/statistical_analysis_deconvoluted_eCRSwNP.txt\n",
      "Saved means to /lab-share/IM-Gutierrez-e2/Public/Sarah/cellphoneDB_George/out_cpdb_thres0.3/statistical_analysis_means_eCRSwNP.txt\n",
      "Saved pvalues to /lab-share/IM-Gutierrez-e2/Public/Sarah/cellphoneDB_George/out_cpdb_thres0.3/statistical_analysis_pvalues_eCRSwNP.txt\n",
      "Saved significant_means to /lab-share/IM-Gutierrez-e2/Public/Sarah/cellphoneDB_George/out_cpdb_thres0.3/statistical_analysis_significant_means_eCRSwNP.txt\n"
     ]
    }
   ],
   "source": [
    "from cellphonedb.src.core.methods import cpdb_statistical_analysis_method\n",
    "\n",
    "deconvoluted, means, pvalues, significant_means = cpdb_statistical_analysis_method.call(\n",
    "    cpdb_file_path = cpdb_file_path,                 # mandatory: CellPhoneDB database zip file.\n",
    "    meta_file_path = meta_eCRSwNP_path,                 # mandatory: tsv file defining barcodes to cell label.\n",
    "    counts_file_path = count_eCRSwNP_path,             # mandatory: normalized count matrix.\n",
    "    counts_data = 'hgnc_symbol',                     # defines the gene annotation in counts matrix.\n",
    "    iterations = 1000,                               # denotes the number of shufflings performed in the analysis.\n",
    "    threshold = 0.3,                                 # defines the min % of cells expressing a gene for this to be employed in the analysis.\n",
    "    threads = 4,                                     # number of threads to use in the analysis.\n",
    "    debug_seed = 42,                                 # debug randome seed. To disable >=0.\n",
    "    result_precision = 3,                            # Sets the rounding for the mean values in significan_means.\n",
    "    pvalue = 0.05,                                   # P-value threshold to employ for significance.\n",
    "    subsampling = False,                             # To enable subsampling the data (geometri sketching).\n",
    "    subsampling_log = False,                         # (mandatory) enable subsampling log1p for non log-transformed data inputs.\n",
    "    subsampling_num_pc = 100,                        # Number of componets to subsample via geometric skectching (dafault: 100).\n",
    "    subsampling_num_cells = 1000,                    # Number of cells to subsample (integer) (default: 1/3 of the dataset).\n",
    "    separator = '|',                                 # Sets the string to employ to separate cells in the results dataframes \"cellA|CellB\".\n",
    "    debug = False,                                   # Saves all intermediate tables employed during the analysis in pkl format.\n",
    "    output_path = out_path,                          # Path to save results.\n",
    "    output_suffix = \"eCRSwNP\"                             # Replaces the timestamp in the output files by a user defined string in the  (default: None).\n",
    "    )"
   ]
  },
  {
   "cell_type": "code",
   "execution_count": 13,
   "metadata": {},
   "outputs": [
    {
     "name": "stdout",
     "output_type": "stream",
     "text": [
      "Reading user files...\n",
      "The following user files were loaded successfully:\n",
      "/lab-share/IM-Gutierrez-e2/Public/Sarah/cellphoneDB_George/anndata_neCRSwNP.h5ad\n",
      "/lab-share/IM-Gutierrez-e2/Public/Sarah/cellphoneDB_George/metadata_neCRSwNP.txt\n",
      "[ ][CORE][17/09/23-21:26:31][INFO] [Cluster Statistical Analysis] Threshold:0.3 Iterations:1000 Debug-seed:42 Threads:4 Precision:3\n",
      "[ ][CORE][17/09/23-21:26:31][WARNING] Debug random seed enabled. Set to 42\n",
      "[ ][CORE][17/09/23-21:26:35][INFO] Running Real Analysis\n",
      "[ ][CORE][17/09/23-21:26:35][INFO] Running Statistical Analysis\n"
     ]
    },
    {
     "name": "stderr",
     "output_type": "stream",
     "text": [
      "100%|██████████| 1000/1000 [05:31<00:00,  3.02it/s]\n"
     ]
    },
    {
     "name": "stdout",
     "output_type": "stream",
     "text": [
      "[ ][CORE][17/09/23-21:32:08][INFO] Building Pvalues result\n",
      "[ ][CORE][17/09/23-21:32:08][INFO] Building results\n",
      "Saved deconvoluted to /lab-share/IM-Gutierrez-e2/Public/Sarah/cellphoneDB_George/out_cpdb_thres0.3/statistical_analysis_deconvoluted_neCRSwNP.txt\n",
      "Saved means to /lab-share/IM-Gutierrez-e2/Public/Sarah/cellphoneDB_George/out_cpdb_thres0.3/statistical_analysis_means_neCRSwNP.txt\n",
      "Saved pvalues to /lab-share/IM-Gutierrez-e2/Public/Sarah/cellphoneDB_George/out_cpdb_thres0.3/statistical_analysis_pvalues_neCRSwNP.txt\n",
      "Saved significant_means to /lab-share/IM-Gutierrez-e2/Public/Sarah/cellphoneDB_George/out_cpdb_thres0.3/statistical_analysis_significant_means_neCRSwNP.txt\n"
     ]
    }
   ],
   "source": [
    "from cellphonedb.src.core.methods import cpdb_statistical_analysis_method\n",
    "\n",
    "deconvoluted, means, pvalues, significant_means = cpdb_statistical_analysis_method.call(\n",
    "    cpdb_file_path = cpdb_file_path,                 # mandatory: CellPhoneDB database zip file.\n",
    "    meta_file_path = meta_neCRSwNP_path,                 # mandatory: tsv file defining barcodes to cell label.\n",
    "    counts_file_path = count_neCRSwNP_path,             # mandatory: normalized count matrix.\n",
    "    counts_data = 'hgnc_symbol',                     # defines the gene annotation in counts matrix.\n",
    "    iterations = 1000,                               # denotes the number of shufflings performed in the analysis.\n",
    "    threshold = 0.3,                                 # defines the min % of cells expressing a gene for this to be employed in the analysis.\n",
    "    threads = 4,                                     # number of threads to use in the analysis.\n",
    "    debug_seed = 42,                                 # debug randome seed. To disable >=0.\n",
    "    result_precision = 3,                            # Sets the rounding for the mean values in significan_means.\n",
    "    pvalue = 0.05,                                   # P-value threshold to employ for significance.\n",
    "    subsampling = False,                             # To enable subsampling the data (geometri sketching).\n",
    "    subsampling_log = False,                         # (mandatory) enable subsampling log1p for non log-transformed data inputs.\n",
    "    subsampling_num_pc = 100,                        # Number of componets to subsample via geometric skectching (dafault: 100).\n",
    "    subsampling_num_cells = 1000,                    # Number of cells to subsample (integer) (default: 1/3 of the dataset).\n",
    "    separator = '|',                                 # Sets the string to employ to separate cells in the results dataframes \"cellA|CellB\".\n",
    "    debug = False,                                   # Saves all intermediate tables employed during the analysis in pkl format.\n",
    "    output_path = out_path,                          # Path to save results.\n",
    "    output_suffix = \"neCRSwNP\"                             # Replaces the timestamp in the output files by a user defined string in the  (default: None).\n",
    "    )"
   ]
  },
  {
   "cell_type": "code",
   "execution_count": 14,
   "metadata": {},
   "outputs": [
    {
     "name": "stdout",
     "output_type": "stream",
     "text": [
      "Reading user files...\n",
      "The following user files were loaded successfully:\n",
      "/lab-share/IM-Gutierrez-e2/Public/Sarah/cellphoneDB_George/anndata_CRSsNP.h5ad\n",
      "/lab-share/IM-Gutierrez-e2/Public/Sarah/cellphoneDB_George/metadata_CRSsNP.txt\n",
      "[ ][CORE][17/09/23-21:35:14][INFO] [Cluster Statistical Analysis] Threshold:0.3 Iterations:1000 Debug-seed:42 Threads:4 Precision:3\n",
      "[ ][CORE][17/09/23-21:35:14][WARNING] Debug random seed enabled. Set to 42\n",
      "[ ][CORE][17/09/23-21:35:17][INFO] Running Real Analysis\n",
      "[ ][CORE][17/09/23-21:35:17][INFO] Running Statistical Analysis\n"
     ]
    },
    {
     "name": "stderr",
     "output_type": "stream",
     "text": [
      "100%|██████████| 1000/1000 [04:21<00:00,  3.83it/s]\n"
     ]
    },
    {
     "name": "stdout",
     "output_type": "stream",
     "text": [
      "[ ][CORE][17/09/23-21:39:39][INFO] Building Pvalues result\n",
      "[ ][CORE][17/09/23-21:39:40][INFO] Building results\n",
      "Saved deconvoluted to /lab-share/IM-Gutierrez-e2/Public/Sarah/cellphoneDB_George/out_cpdb_thres0.3/statistical_analysis_deconvoluted_CRSsNP.txt\n",
      "Saved means to /lab-share/IM-Gutierrez-e2/Public/Sarah/cellphoneDB_George/out_cpdb_thres0.3/statistical_analysis_means_CRSsNP.txt\n",
      "Saved pvalues to /lab-share/IM-Gutierrez-e2/Public/Sarah/cellphoneDB_George/out_cpdb_thres0.3/statistical_analysis_pvalues_CRSsNP.txt\n",
      "Saved significant_means to /lab-share/IM-Gutierrez-e2/Public/Sarah/cellphoneDB_George/out_cpdb_thres0.3/statistical_analysis_significant_means_CRSsNP.txt\n"
     ]
    }
   ],
   "source": [
    "from cellphonedb.src.core.methods import cpdb_statistical_analysis_method\n",
    "\n",
    "#out_path=\"/lab-share/IM-Gutierrez-e2/Public/Sarah/cellphoneDB_George/out_cpdb_subset\"\n",
    "\n",
    "\n",
    "deconvoluted, means, pvalues, significant_means = cpdb_statistical_analysis_method.call(\n",
    "    cpdb_file_path = cpdb_file_path,                 # mandatory: CellPhoneDB database zip file.\n",
    "    meta_file_path = meta_CRSsNP_path,                 # mandatory: tsv file defining barcodes to cell label.\n",
    "    counts_file_path = count_CRSsNP_path,             # mandatory: normalized count matrix.\n",
    "    counts_data = 'hgnc_symbol',                     # defines the gene annotation in counts matrix.\n",
    "    iterations = 1000,                               # denotes the number of shufflings performed in the analysis.\n",
    "    threshold = 0.3,                                 # defines the min % of cells expressing a gene for this to be employed in the analysis.\n",
    "    threads = 4,                                     # number of threads to use in the analysis.\n",
    "    debug_seed = 42,                                 # debug randome seed. To disable >=0.\n",
    "    result_precision = 3,                            # Sets the rounding for the mean values in significan_means.\n",
    "    pvalue = 0.05,                                   # P-value threshold to employ for significance.\n",
    "    subsampling = False,                             # To enable subsampling the data (geometri sketching).\n",
    "    subsampling_log = False,                         # (mandatory) enable subsampling log1p for non log-transformed data inputs.\n",
    "    subsampling_num_pc = 100,                        # Number of componets to subsample via geometric skectching (dafault: 100).\n",
    "    subsampling_num_cells = 1000,                    # Number of cells to subsample (integer) (default: 1/3 of the dataset).\n",
    "    separator = '|',                                 # Sets the string to employ to separate cells in the results dataframes \"cellA|CellB\".\n",
    "    debug = False,                                   # Saves all intermediate tables employed during the analysis in pkl format.\n",
    "    output_path = out_path,                          # Path to save results.\n",
    "    output_suffix = \"CRSsNP\"                             # Replaces the timestamp in the output files by a user defined string in the  (default: None).\n",
    "    )"
   ]
  },
  {
   "cell_type": "code",
   "execution_count": 14,
   "metadata": {},
   "outputs": [],
   "source": [
    "import ktplotspy as kpy\n",
    "\n",
    "res_control_pval=\"/lab-share/IM-Gutierrez-e2/Public/Sarah/cellphoneDB_George/out_cpdb_thres0.3/statistical_analysis_pvalues_control.txt\""
   ]
  },
  {
   "cell_type": "code",
   "execution_count": null,
   "metadata": {},
   "outputs": [],
   "source": [
    "kpy.plot_cpdb_heatmap(\n",
    "        adata = adata_control,\n",
    "        pvals = res_control_pval,\n",
    "        celltype_key = \"cell_labels\",\n",
    "        figsize = (5,5),\n",
    "        title = \"Number of significant interactions\",\n",
    "        symmetrical = False,\n",
    "    )"
   ]
  }
 ],
 "metadata": {
  "kernelspec": {
   "display_name": "cpdb",
   "language": "python",
   "name": "cpdb"
  },
  "language_info": {
   "codemirror_mode": {
    "name": "ipython",
    "version": 3
   },
   "file_extension": ".py",
   "mimetype": "text/x-python",
   "name": "python",
   "nbconvert_exporter": "python",
   "pygments_lexer": "ipython3",
   "version": "3.11.7"
  }
 },
 "nbformat": 4,
 "nbformat_minor": 4
}
